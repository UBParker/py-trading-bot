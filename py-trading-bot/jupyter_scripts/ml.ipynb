{
 "cells": [
  {
   "cell_type": "code",
   "execution_count": 1,
   "id": "3eed57cb-b7bc-43a3-8c74-ad46dba7588d",
   "metadata": {},
   "outputs": [
    {
     "name": "stderr",
     "output_type": "stream",
     "text": [
      "2023-11-23 11:36:52.315678: W tensorflow/stream_executor/platform/default/dso_loader.cc:64] Could not load dynamic library 'libcudart.so.11.0'; dlerror: libcudart.so.11.0: cannot open shared object file: No such file or directory\n",
      "2023-11-23 11:36:52.315698: I tensorflow/stream_executor/cuda/cudart_stub.cc:29] Ignore above cudart dlerror if you do not have a GPU set up on your machine.\n"
     ]
    }
   ],
   "source": [
    "import sys\n",
    "sys.path.append(\"..\")\n",
    "\n",
    "from ml import ml\n",
    "import vectorbtpro as vbt"
   ]
  },
  {
   "cell_type": "code",
   "execution_count": 29,
   "id": "469a3066-72ca-4f9e-80a3-5327231853d2",
   "metadata": {},
   "outputs": [
    {
     "data": {
      "text/plain": [
       "<module 'ml.ml' from '/home/maxime/py-trading-bot/py-trading-bot/py-trading-bot/jupyter_scripts/../ml/ml.py'>"
      ]
     },
     "execution_count": 29,
     "metadata": {},
     "output_type": "execute_result"
    }
   ],
   "source": [
    "import importlib\n",
    "importlib.reload(ml)"
   ]
  },
  {
   "cell_type": "code",
   "execution_count": 7,
   "id": "b42f03d5-9786-4643-8ad4-2d58fe98115f",
   "metadata": {},
   "outputs": [],
   "source": [
    "period=\"2007_2023_08\""
   ]
  },
  {
   "cell_type": "code",
   "execution_count": 8,
   "id": "92efd612-c039-43d2-b78f-b417913d4ae0",
   "metadata": {},
   "outputs": [
    {
     "data": {
      "application/json": {
       "ascii": false,
       "bar_format": null,
       "colour": null,
       "elapsed": 0.0074176788330078125,
       "initial": 0,
       "n": 0,
       "ncols": null,
       "nrows": 53,
       "postfix": null,
       "prefix": "",
       "rate": null,
       "total": 40,
       "unit": "it",
       "unit_divisor": 1000,
       "unit_scale": false
      },
      "application/vnd.jupyter.widget-view+json": {
       "model_id": "62ad72296b2b44038d3355452b4ef8ef",
       "version_major": 2,
       "version_minor": 0
      },
      "text/plain": [
       "  0%|          | 0/40 [00:00<?, ?it/s]"
      ]
     },
     "metadata": {},
     "output_type": "display_data"
    },
    {
     "name": "stdout",
     "output_type": "stream",
     "text": [
      "number of days retrieved: 4238\n"
     ]
    }
   ],
   "source": [
    "m=ml.ML(period) #,indexes=['CAC40','NASDAQ']"
   ]
  },
  {
   "cell_type": "code",
   "execution_count": 9,
   "id": "aa75c2f5-d5d8-461a-b1c6-6bb5f07fd5ae",
   "metadata": {},
   "outputs": [],
   "source": [
    "features_name=['STOCH', 'RSI',\"WILLR\",\"MFI\",'BBANDS_BANDWIDTH','ULTOSC',\"OBV\",\"AD\",\n",
    "               \"GROW_30\",\"GROW_30_RANK\",\"GROW_30_MA\",\"GROW_30_MA_RANK\",\"GROW_30_DEMA\",\"GROW_30_DEMA_RANK\",\n",
    "               \"GROW_50\",\"GROW_50_RANK\",\"GROW_50_MA\",\"GROW_50_MA_RANK\",\"GROW_50_DEMA\",\"GROW_50_DEMA_RANK\",\n",
    "               \"GROW_200\",\"GROW_200_RANK\",\"GROW_200_MA\",\"GROW_200_MA_RANK\",\"GROW_200_DEMA\",\"GROW_200_DEMA_RANK\",\n",
    "               \"KAMA_DURATION\",\"KAMA_DURATION_RANK\",\"NATR\",\"HIST\",\"MACD\",\"DIVERGENCE\",\"STD\",\"MACRO_TREND\",\"HT_TRENDMODE\",\n",
    "               \"PU_RESISTANCE\",\"PU_SUPPORT\"]\n",
    "               \n",
    "               "
   ]
  },
  {
   "cell_type": "code",
   "execution_count": 10,
   "id": "a9724d34-0a07-47e1-a92d-72ba5350d992",
   "metadata": {},
   "outputs": [
    {
     "name": "stdout",
     "output_type": "stream",
     "text": [
      "preparation finished\n"
     ]
    }
   ],
   "source": [
    "m.prepare(preprocessing=True, \n",
    "          next_day_price=False, \n",
    "          distance=10,\n",
    "          model_type=\"MLP\",\n",
    "          steps=10,\n",
    "          features_name=features_name)\n"
   ]
  },
  {
   "cell_type": "code",
   "execution_count": 11,
   "id": "0a2f5785-c69d-4297-9dbc-ef7a0d20da51",
   "metadata": {},
   "outputs": [
    {
     "name": "stdout",
     "output_type": "stream",
     "text": [
      "starting the fitting\n"
     ]
    },
    {
     "name": "stderr",
     "output_type": "stream",
     "text": [
      "/home/maxime/.local/lib/python3.8/site-packages/sklearn/neural_network/_multilayer_perceptron.py:1623: DataConversionWarning: A column-vector y was passed when a 1d array was expected. Please change the shape of y to (n_samples, ), for example using ravel().\n",
      "  y = column_or_1d(y, warn=True)\n"
     ]
    },
    {
     "name": "stdout",
     "output_type": "stream",
     "text": [
      "model saved, starting the testing\n",
      "r2 score test: -1.5988868856072003\n",
      "r2 score train: -1.5385718893105587\n",
      "r2 score total: -1.539048752583672\n"
     ]
    }
   ],
   "source": [
    "m.train(\"mlp_test\",n_epochs=1000)"
   ]
  },
  {
   "cell_type": "code",
   "execution_count": 16,
   "id": "830e6c18-d240-4277-992c-39a231c87202",
   "metadata": {},
   "outputs": [
    {
     "name": "stdout",
     "output_type": "stream",
     "text": [
      "(39, 838, 10, 35)\n",
      "scaling of x finished\n",
      "scaling of x finished\n",
      "scaling of x finished\n",
      "(39, 838, 1)\n",
      "accurary test: [-8.117270367001629, -0.6657708154984643, -9.35797031831088, -0.630282590151416, -0.8362274778649674, -1.1033092176151222, -3.310490367773971, -10.152762473560694, -7.803180216845131, -5.20300493904817, -2.2205392532879253, -2.280337027432248, -3.7349302177340062, -6.986614276825399, -2.2830306847739545, -2.3567071679860256, -3.460069963980633, -0.5999750175373613, -8.88706366002301, -0.8032544296174768, -1.7548060383956798, -0.57728003070101, -0.4193809101122876, -0.6464500881055362, -5.818218761594071, -4.495826463709285, -4.233044485947027, -2.958126448692713, -0.9497195609318605, -2.1924460576510327, -3.0536983260394175, -0.5004686107657323, -2.029925465349029, -1.1804607687476705, -2.2578260558678425, -3.8381134404544888, -3.1612953724110477, -3.122418850877235, -1.5187561854646399]\n",
      "accurary train: [-3.7343849167752916, -1.435539390625948, -1.344722967603731, -1.1402765063942217, -0.5425812936596786, -0.4240690818625117, -0.5643833482637859, -0.6532524549237695, -1.8407189611257966, -0.278118517295586, -0.5783365119104484, -0.5667089619800474, -0.7942038706699277, -1.2715647817392242, -0.41639775823066016, -1.0590674791073011, -0.918941072925139, -0.7360030583603896, -0.48303459278757854, -0.704269536369136, -0.8098558558208302, -0.5532680467268691, -0.6478149488766323, -0.3612638787206428, -1.1918680187289885, -1.275897143514931, -1.0011426539706982, -0.7155579549089734, -0.7951101268251426, -0.6255973413010805, -0.9195415356925585, -0.6641845759706868, -1.1612293223307648, -0.8189643687594894, -1.712542576811558, -2.034319063281206, -1.1509109792516, -3.6420120441020565, -2.5645712525091056]\n",
      "accurary total: [-4.499353997384023, -0.8724338264235407, -1.9187648431253095, -0.9316103078942803, -0.5859285380744346, -0.5359054697542487, -0.8693837187679039, -0.9576943595903284, -2.6068118926772534, -0.6026696791744985, -0.7405244740838719, -0.7458457681662503, -0.9880366199098023, -1.722672107688901, -0.5792620506944579, -1.256007337237373, -1.2323201748195247, -0.7128765058976012, -0.8957229258772934, -0.6889550176871577, -0.9612102867853616, -0.5159880573897428, -0.5014127450716512, -0.40343346069100194, -1.5069589775934866, -1.8130745923920983, -1.3987674090074118, -1.0280329610450822, -0.8009338646769242, -0.8429447040697229, -1.3253386721281815, -0.6114520393668783, -1.2895639409238604, -0.8725656646288664, -1.7795069966767385, -2.293194017506645, -1.4149595094020921, -3.419446086095996, -2.3323480047957967]\n"
     ]
    }
   ],
   "source": [
    "m.test(model_name=\"lstm_new\")"
   ]
  },
  {
   "cell_type": "code",
   "execution_count": 44,
   "id": "1147dfe6-9354-44bf-abe6-cbf6bcba3308",
   "metadata": {},
   "outputs": [],
   "source": [
    "period=\"2007_2023_08\"\n",
    "symbol_index=\"HEALTHCARE\" # \"CAC40\", \"DAX\", \"NASDAQ\", \"REALESTATE\", \"INDUSTRY\", \"IT\", \"COM\", \"CONSUMER\", \"HEALTHCARE\""
   ]
  },
  {
   "cell_type": "code",
   "execution_count": 45,
   "id": "8664d939-19cf-487c-88d5-f69b17c33d2d",
   "metadata": {},
   "outputs": [
    {
     "data": {
      "application/json": {
       "ascii": false,
       "bar_format": null,
       "colour": null,
       "elapsed": 0.0060770511627197266,
       "initial": 0,
       "n": 0,
       "ncols": null,
       "nrows": 53,
       "postfix": null,
       "prefix": "",
       "rate": null,
       "total": 57,
       "unit": "it",
       "unit_divisor": 1000,
       "unit_scale": false
      },
      "application/vnd.jupyter.widget-view+json": {
       "model_id": "b716f3a36ad64ae08a4e2a9b59896655",
       "version_major": 2,
       "version_minor": 0
      },
      "text/plain": [
       "  0%|          | 0/57 [00:00<?, ?it/s]"
      ]
     },
     "metadata": {},
     "output_type": "display_data"
    },
    {
     "name": "stdout",
     "output_type": "stream",
     "text": [
      "number of days retrieved: 4024\n",
      "preparation finished\n",
      "scaling of x for predicting finished\n"
     ]
    }
   ],
   "source": [
    "bti=ml.PreselMLCustom(period,\"231121_lstm\",symbol_index=symbol_index)\n",
    "#bti=ml.PreselLSTM_A(period,symbol_index=symbol_index)\n",
    "bti.run()"
   ]
  },
  {
   "cell_type": "code",
   "execution_count": 46,
   "id": "ef79ad24-67d3-4598-afde-0b82b94344ba",
   "metadata": {},
   "outputs": [
    {
     "data": {
      "text/plain": [
       "Start                        2007-01-03 00:00:00-05:00\n",
       "End                          2022-12-23 00:00:00-05:00\n",
       "Period                              4024 days 00:00:00\n",
       "Total Return [%]                            303.888119\n",
       "Benchmark Return [%]                        834.589756\n",
       "Annualized Return [%]                         9.126515\n",
       "Annualized Volatility [%]                    41.576987\n",
       "Max Drawdown [%]                             49.666904\n",
       "Max Drawdown Duration                793 days 00:00:00\n",
       "Sharpe Ratio                                  0.510827\n",
       "Calmar Ratio                                  0.183754\n",
       "Omega Ratio                                   1.087676\n",
       "Sortino Ratio                                 0.764993\n",
       "Skew                                          0.882238\n",
       "Kurtosis                                     23.164426\n",
       "Tail Ratio                                    1.015883\n",
       "Common Sense Ratio                            1.108598\n",
       "Value at Risk                                -0.030122\n",
       "Alpha                                        -0.010311\n",
       "Beta                                          0.948456\n",
       "Name: group, dtype: object"
      ]
     },
     "execution_count": 46,
     "metadata": {},
     "output_type": "execute_result"
    }
   ],
   "source": [
    "pf=vbt.Portfolio.from_signals(bti.close, bti.entries,bti.exits,freq=\"1d\",#short_entries=bti.entries_short,short_exits  =bti.exits_short\n",
    "                            call_seq='auto',cash_sharing=True,fees=0.0005\n",
    "                             )\n",
    "pf.returns_stats()"
   ]
  },
  {
   "cell_type": "code",
   "execution_count": 47,
   "id": "b76d8406-4147-407d-824f-c61ae032c5d5",
   "metadata": {},
   "outputs": [
    {
     "data": {
      "text/plain": [
       "Start                         2007-01-03 00:00:00-05:00\n",
       "End                           2022-12-23 00:00:00-05:00\n",
       "Period                               4024 days 00:00:00\n",
       "Start Value                                       100.0\n",
       "Min Value                                     77.992184\n",
       "Max Value                                    581.992066\n",
       "End Value                                    403.888119\n",
       "Total Return [%]                             303.888119\n",
       "Benchmark Return [%]                         834.589756\n",
       "Total Time Exposure [%]                           100.0\n",
       "Max Gross Exposure [%]                            100.0\n",
       "Max Drawdown [%]                              49.666904\n",
       "Max Drawdown Duration                 793 days 00:00:00\n",
       "Total Orders                                       1407\n",
       "Total Fees Paid                              235.784702\n",
       "Total Trades                                        704\n",
       "Win Rate [%]                                  52.631579\n",
       "Best Trade [%]                                35.243452\n",
       "Worst Trade [%]                              -31.365366\n",
       "Avg Winning Trade [%]                          3.350952\n",
       "Avg Losing Trade [%]                          -3.050376\n",
       "Avg Winning Trade Duration    5 days 21:47:40.540540540\n",
       "Avg Losing Trade Duration     5 days 12:19:27.567567567\n",
       "Profit Factor                                  1.091309\n",
       "Expectancy                                     0.431764\n",
       "Sharpe Ratio                                   0.510827\n",
       "Calmar Ratio                                   0.183754\n",
       "Omega Ratio                                    1.087676\n",
       "Sortino Ratio                                  0.764993\n",
       "Name: group, dtype: object"
      ]
     },
     "execution_count": 47,
     "metadata": {},
     "output_type": "execute_result"
    }
   ],
   "source": [
    "pf.stats()"
   ]
  },
  {
   "cell_type": "code",
   "execution_count": 43,
   "id": "92d2d5e5-bc69-47d4-a8b8-6eb5458fd0ee",
   "metadata": {},
   "outputs": [
    {
     "name": "stderr",
     "output_type": "stream",
     "text": [
      "/home/maxime/.local/lib/python3.8/site-packages/vectorbtpro/generic/plots_builder.py:398: UserWarning:\n",
      "\n",
      "Subplot 'orders' does not support grouped data\n",
      "\n",
      "/home/maxime/.local/lib/python3.8/site-packages/vectorbtpro/generic/plots_builder.py:398: UserWarning:\n",
      "\n",
      "Subplot 'trade_pnl' does not support grouped data\n",
      "\n"
     ]
    },
    {
     "data": {
      "application/vnd.jupyter.widget-view+json": {
       "model_id": "7c66833d85234824b9be5dd81db14fd1",
       "version_major": 2,
       "version_minor": 0
      },
      "text/plain": [
       "FigureWidget({\n",
       "    'data': [{'legendgroup': '0',\n",
       "              'line': {'color': '#7f7f7f'},\n",
       "              'mode': 'lines',\n",
       "              'name': 'Benchmark',\n",
       "              'showlegend': True,\n",
       "              'type': 'scatter',\n",
       "              'uid': '5a475c52-1cdb-4a5a-9b02-0b881796da20',\n",
       "              'x': array([datetime.datetime(2007, 1, 2, 0, 0, tzinfo=<DstTzInfo 'Europe/Berlin' CET+1:00:00 STD>),\n",
       "                          datetime.datetime(2007, 1, 3, 0, 0, tzinfo=<DstTzInfo 'Europe/Berlin' CET+1:00:00 STD>),\n",
       "                          datetime.datetime(2007, 1, 4, 0, 0, tzinfo=<DstTzInfo 'Europe/Berlin' CET+1:00:00 STD>),\n",
       "                          ...,\n",
       "                          datetime.datetime(2023, 7, 27, 0, 0, tzinfo=<DstTzInfo 'Europe/Berlin' CEST+2:00:00 DST>),\n",
       "                          datetime.datetime(2023, 7, 28, 0, 0, tzinfo=<DstTzInfo 'Europe/Berlin' CEST+2:00:00 DST>),\n",
       "                          datetime.datetime(2023, 7, 31, 0, 0, tzinfo=<DstTzInfo 'Europe/Berlin' CEST+2:00:00 DST>)],\n",
       "                         dtype=object),\n",
       "              'xaxis': 'x',\n",
       "              'y': array([1.        , 1.00251371, 1.00315578, ..., 4.76976876, 4.76676237,\n",
       "                          4.75110787]),\n",
       "              'yaxis': 'y'},\n",
       "             {'hoverinfo': 'skip',\n",
       "              'line': {'color': 'rgba(0, 0, 0, 0)', 'width': 0},\n",
       "              'mode': 'lines',\n",
       "              'opacity': 0,\n",
       "              'showlegend': False,\n",
       "              'type': 'scatter',\n",
       "              'uid': '58944220-c1cc-4ea3-9bf3-1f0569d4d8ec',\n",
       "              'x': array([datetime.datetime(2007, 1, 2, 0, 0, tzinfo=<DstTzInfo 'Europe/Berlin' CET+1:00:00 STD>),\n",
       "                          datetime.datetime(2007, 1, 3, 0, 0, tzinfo=<DstTzInfo 'Europe/Berlin' CET+1:00:00 STD>),\n",
       "                          datetime.datetime(2007, 1, 4, 0, 0, tzinfo=<DstTzInfo 'Europe/Berlin' CET+1:00:00 STD>),\n",
       "                          ...,\n",
       "                          datetime.datetime(2023, 7, 27, 0, 0, tzinfo=<DstTzInfo 'Europe/Berlin' CEST+2:00:00 DST>),\n",
       "                          datetime.datetime(2023, 7, 28, 0, 0, tzinfo=<DstTzInfo 'Europe/Berlin' CEST+2:00:00 DST>),\n",
       "                          datetime.datetime(2023, 7, 31, 0, 0, tzinfo=<DstTzInfo 'Europe/Berlin' CEST+2:00:00 DST>)],\n",
       "                         dtype=object),\n",
       "              'xaxis': 'x',\n",
       "              'y': array([1, 1, 1, ..., 1, 1, 1]),\n",
       "              'yaxis': 'y'},\n",
       "             {'connectgaps': False,\n",
       "              'fill': 'tonexty',\n",
       "              'fillcolor': 'rgba(0, 128, 0, 0.25)',\n",
       "              'hoverinfo': 'skip',\n",
       "              'line': {'color': 'rgba(0, 0, 0, 0)', 'width': 0},\n",
       "              'mode': 'lines',\n",
       "              'opacity': 0,\n",
       "              'showlegend': False,\n",
       "              'type': 'scatter',\n",
       "              'uid': '4c68eaeb-5907-4b25-8a3a-ff0c09c37fef',\n",
       "              'x': array([datetime.datetime(2007, 1, 2, 0, 0, tzinfo=<DstTzInfo 'Europe/Berlin' CET+1:00:00 STD>),\n",
       "                          datetime.datetime(2007, 1, 3, 0, 0, tzinfo=<DstTzInfo 'Europe/Berlin' CET+1:00:00 STD>),\n",
       "                          datetime.datetime(2007, 1, 4, 0, 0, tzinfo=<DstTzInfo 'Europe/Berlin' CET+1:00:00 STD>),\n",
       "                          ...,\n",
       "                          datetime.datetime(2023, 7, 27, 0, 0, tzinfo=<DstTzInfo 'Europe/Berlin' CEST+2:00:00 DST>),\n",
       "                          datetime.datetime(2023, 7, 28, 0, 0, tzinfo=<DstTzInfo 'Europe/Berlin' CEST+2:00:00 DST>),\n",
       "                          datetime.datetime(2023, 7, 31, 0, 0, tzinfo=<DstTzInfo 'Europe/Berlin' CEST+2:00:00 DST>)],\n",
       "                         dtype=object),\n",
       "              'xaxis': 'x',\n",
       "              'y': array([1.        , 1.0026642 , 1.        , ..., 3.65409496, 3.6963038 ,\n",
       "                          3.64642672]),\n",
       "              'yaxis': 'y'},\n",
       "             {'hoverinfo': 'skip',\n",
       "              'line': {'color': 'rgba(0, 0, 0, 0)', 'width': 0},\n",
       "              'mode': 'lines',\n",
       "              'opacity': 0,\n",
       "              'showlegend': False,\n",
       "              'type': 'scatter',\n",
       "              'uid': '2d7b829b-b9cc-4d28-afd0-2b99c4cdd81d',\n",
       "              'x': array([datetime.datetime(2007, 1, 2, 0, 0, tzinfo=<DstTzInfo 'Europe/Berlin' CET+1:00:00 STD>),\n",
       "                          datetime.datetime(2007, 1, 3, 0, 0, tzinfo=<DstTzInfo 'Europe/Berlin' CET+1:00:00 STD>),\n",
       "                          datetime.datetime(2007, 1, 4, 0, 0, tzinfo=<DstTzInfo 'Europe/Berlin' CET+1:00:00 STD>),\n",
       "                          ...,\n",
       "                          datetime.datetime(2023, 7, 27, 0, 0, tzinfo=<DstTzInfo 'Europe/Berlin' CEST+2:00:00 DST>),\n",
       "                          datetime.datetime(2023, 7, 28, 0, 0, tzinfo=<DstTzInfo 'Europe/Berlin' CEST+2:00:00 DST>),\n",
       "                          datetime.datetime(2023, 7, 31, 0, 0, tzinfo=<DstTzInfo 'Europe/Berlin' CEST+2:00:00 DST>)],\n",
       "                         dtype=object),\n",
       "              'xaxis': 'x',\n",
       "              'y': array([1, 1, 1, ..., 1, 1, 1]),\n",
       "              'yaxis': 'y'},\n",
       "             {'connectgaps': False,\n",
       "              'fill': 'tonexty',\n",
       "              'fillcolor': 'rgba(255, 0, 0, 0.25)',\n",
       "              'hoverinfo': 'skip',\n",
       "              'line': {'color': 'rgba(0, 0, 0, 0)', 'width': 0},\n",
       "              'mode': 'lines',\n",
       "              'opacity': 0,\n",
       "              'showlegend': False,\n",
       "              'type': 'scatter',\n",
       "              'uid': 'a4239fce-5e9b-401e-8cd9-cf4eb1218bc5',\n",
       "              'x': array([datetime.datetime(2007, 1, 2, 0, 0, tzinfo=<DstTzInfo 'Europe/Berlin' CET+1:00:00 STD>),\n",
       "                          datetime.datetime(2007, 1, 3, 0, 0, tzinfo=<DstTzInfo 'Europe/Berlin' CET+1:00:00 STD>),\n",
       "                          datetime.datetime(2007, 1, 4, 0, 0, tzinfo=<DstTzInfo 'Europe/Berlin' CET+1:00:00 STD>),\n",
       "                          ...,\n",
       "                          datetime.datetime(2023, 7, 27, 0, 0, tzinfo=<DstTzInfo 'Europe/Berlin' CEST+2:00:00 DST>),\n",
       "                          datetime.datetime(2023, 7, 28, 0, 0, tzinfo=<DstTzInfo 'Europe/Berlin' CEST+2:00:00 DST>),\n",
       "                          datetime.datetime(2023, 7, 31, 0, 0, tzinfo=<DstTzInfo 'Europe/Berlin' CEST+2:00:00 DST>)],\n",
       "                         dtype=object),\n",
       "              'xaxis': 'x',\n",
       "              'y': array([0.99950025, 1.        , 0.99660009, ..., 1.        , 1.        ,\n",
       "                          1.        ]),\n",
       "              'yaxis': 'y'},\n",
       "             {'legendgroup': '1',\n",
       "              'line': {'color': '#9467bd'},\n",
       "              'mode': 'lines',\n",
       "              'name': 'Value',\n",
       "              'showlegend': True,\n",
       "              'type': 'scatter',\n",
       "              'uid': 'b1fd0d9c-7647-4873-8baf-cf5288af1a4d',\n",
       "              'x': array([datetime.datetime(2007, 1, 2, 0, 0, tzinfo=<DstTzInfo 'Europe/Berlin' CET+1:00:00 STD>),\n",
       "                          datetime.datetime(2007, 1, 3, 0, 0, tzinfo=<DstTzInfo 'Europe/Berlin' CET+1:00:00 STD>),\n",
       "                          datetime.datetime(2007, 1, 4, 0, 0, tzinfo=<DstTzInfo 'Europe/Berlin' CET+1:00:00 STD>),\n",
       "                          ...,\n",
       "                          datetime.datetime(2023, 7, 27, 0, 0, tzinfo=<DstTzInfo 'Europe/Berlin' CEST+2:00:00 DST>),\n",
       "                          datetime.datetime(2023, 7, 28, 0, 0, tzinfo=<DstTzInfo 'Europe/Berlin' CEST+2:00:00 DST>),\n",
       "                          datetime.datetime(2023, 7, 31, 0, 0, tzinfo=<DstTzInfo 'Europe/Berlin' CEST+2:00:00 DST>)],\n",
       "                         dtype=object),\n",
       "              'xaxis': 'x',\n",
       "              'y': array([0.99950025, 1.0026642 , 0.99660009, ..., 3.65409496, 3.6963038 ,\n",
       "                          3.64642672]),\n",
       "              'yaxis': 'y'},\n",
       "             {'hoverinfo': 'skip',\n",
       "              'line': {'color': 'rgba(0, 0, 0, 0)', 'width': 0},\n",
       "              'mode': 'lines',\n",
       "              'opacity': 0.0,\n",
       "              'showlegend': False,\n",
       "              'type': 'scatter',\n",
       "              'uid': '0e732588-8a7e-4622-8988-d7e42517713f',\n",
       "              'x': array([datetime.datetime(2007, 1, 2, 0, 0, tzinfo=<DstTzInfo 'Europe/Berlin' CET+1:00:00 STD>),\n",
       "                          datetime.datetime(2007, 1, 3, 0, 0, tzinfo=<DstTzInfo 'Europe/Berlin' CET+1:00:00 STD>),\n",
       "                          datetime.datetime(2007, 1, 4, 0, 0, tzinfo=<DstTzInfo 'Europe/Berlin' CET+1:00:00 STD>),\n",
       "                          ...,\n",
       "                          datetime.datetime(2023, 7, 27, 0, 0, tzinfo=<DstTzInfo 'Europe/Berlin' CEST+2:00:00 DST>),\n",
       "                          datetime.datetime(2023, 7, 28, 0, 0, tzinfo=<DstTzInfo 'Europe/Berlin' CEST+2:00:00 DST>),\n",
       "                          datetime.datetime(2023, 7, 31, 0, 0, tzinfo=<DstTzInfo 'Europe/Berlin' CEST+2:00:00 DST>)],\n",
       "                         dtype=object),\n",
       "              'xaxis': 'x',\n",
       "              'y': array([1, 1, 1, ..., 1, 1, 1]),\n",
       "              'yaxis': 'y'}],\n",
       "    'layout': {'annotations': [{'font': {'size': 16},\n",
       "                                'showarrow': False,\n",
       "                                'text': 'Cumulative Returns',\n",
       "                                'x': 0.5,\n",
       "                                'xanchor': 'center',\n",
       "                                'xref': 'paper',\n",
       "                                'y': 1.0,\n",
       "                                'yanchor': 'bottom',\n",
       "                                'yref': 'paper'}],\n",
       "               'height': 380,\n",
       "               'legend': {'orientation': 'h',\n",
       "                          'traceorder': 'normal',\n",
       "                          'x': 1,\n",
       "                          'xanchor': 'right',\n",
       "                          'y': 1.1052631578947367,\n",
       "                          'yanchor': 'bottom'},\n",
       "               'margin': {'b': 30, 'l': 30, 'r': 30, 't': 30},\n",
       "               'shapes': [{'line': {'color': 'gray', 'dash': 'dash'},\n",
       "                           'type': 'line',\n",
       "                           'x0': 0.0,\n",
       "                           'x1': 1.0,\n",
       "                           'xref': 'paper',\n",
       "                           'y0': 1,\n",
       "                           'y1': 1,\n",
       "                           'yref': 'y'}],\n",
       "               'showlegend': True,\n",
       "               'template': '...',\n",
       "               'width': 750,\n",
       "               'xaxis': {'anchor': 'y', 'domain': [0.0, 1.0], 'title': {'text': 'Index'}},\n",
       "               'yaxis': {'anchor': 'x', 'domain': [0.0, 1.0], 'title': {'text': 'Cumulative returns'}}}\n",
       "})"
      ]
     },
     "execution_count": 43,
     "metadata": {},
     "output_type": "execute_result"
    }
   ],
   "source": [
    "pf.plot()"
   ]
  },
  {
   "cell_type": "code",
   "execution_count": null,
   "id": "4a8c3e65-ef05-46a4-9f07-3e7e278951a3",
   "metadata": {},
   "outputs": [],
   "source": []
  }
 ],
 "metadata": {
  "kernelspec": {
   "display_name": "Python 3 (ipykernel)",
   "language": "python",
   "name": "python3"
  },
  "language_info": {
   "codemirror_mode": {
    "name": "ipython",
    "version": 3
   },
   "file_extension": ".py",
   "mimetype": "text/x-python",
   "name": "python",
   "nbconvert_exporter": "python",
   "pygments_lexer": "ipython3",
   "version": "3.8.10"
  }
 },
 "nbformat": 4,
 "nbformat_minor": 5
}
