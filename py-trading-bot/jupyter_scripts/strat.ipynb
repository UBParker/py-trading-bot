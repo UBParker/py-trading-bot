{
 "cells": [
  {
   "cell_type": "code",
   "execution_count": 1,
   "id": "0209edb2-d39f-43a4-af7d-dc6817d68871",
   "metadata": {},
   "outputs": [],
   "source": [
    "## Notebook to visualize underlying strategy (for one stock) using historical and pre-saved data\n",
    "import sys\n",
    "sys.path.append(\"..\")\n",
    "\n",
    "import vectorbtpro as vbt\n",
    "import numpy as np\n",
    "import pandas as pd\n",
    "\n",
    "import importlib\n",
    "import inspect\n",
    "from numba import njit\n",
    "import talib\n",
    "import math\n",
    "\n",
    "from core import strat, indicators\n",
    "from core import data_manager\n"
   ]
  },
  {
   "cell_type": "code",
   "execution_count": 2,
   "id": "e5875e4b-89a8-4dc6-ab25-ce8fedc34b34",
   "metadata": {},
   "outputs": [
    {
     "data": {
      "text/plain": [
       "<module 'core.data_manager' from '/home/maxime/py-trading-bot6_StratObj/py-trading-bot/py-trading-bot/jupyter_scripts/../core/data_manager.py'>"
      ]
     },
     "execution_count": 2,
     "metadata": {},
     "output_type": "execute_result"
    }
   ],
   "source": [
    "importlib.reload(indicators)\n",
    "importlib.reload(strat)\n",
    "importlib.reload(data_manager)"
   ]
  },
  {
   "cell_type": "code",
   "execution_count": 3,
   "id": "4c4d7314-8cae-4ecb-b817-4fe544628d7c",
   "metadata": {},
   "outputs": [],
   "source": [
    "period=\"2007_2022_08\"\n",
    "symbol_index=\"CAC40\"\n"
   ]
  },
  {
   "cell_type": "code",
   "execution_count": 6,
   "id": "7c0c35f0-47d6-43d9-bfa7-b2ae83f6f134",
   "metadata": {},
   "outputs": [
    {
     "data": {
      "application/json": {
       "ascii": false,
       "bar_format": null,
       "colour": null,
       "elapsed": 0.00861668586730957,
       "initial": 0,
       "n": 0,
       "ncols": null,
       "nrows": 53,
       "postfix": null,
       "prefix": "",
       "rate": null,
       "total": 39,
       "unit": "it",
       "unit_divisor": 1000,
       "unit_scale": false
      },
      "application/vnd.jupyter.widget-view+json": {
       "model_id": "66819699e8fc463da8c47336d24ca187",
       "version_major": 2,
       "version_minor": 0
      },
      "text/plain": [
       "  0%|          | 0/39 [00:00<?, ?it/s]"
      ]
     },
     "metadata": {},
     "output_type": "display_data"
    }
   ],
   "source": [
    "ust=strat.StratHold(period,symbol_index=symbol_index)\n",
    "\n",
    "###No trend ###\n",
    "#ust=strat.StratRSI(period,symbol_index=symbol_index)\n",
    "#ust=strat.StratRSIeq(period,symbol_index=symbol_index)\n",
    "#ust=strat.StratDbear(period,symbol_index=symbol_index)\n",
    "#ust=strat.StratDiv(period,symbol_index=symbol_index)\n",
    "\n",
    "### Trend ###\n",
    "#ust=strat.StratReal(period,symbol_index=symbol_index)\n",
    "#ust=strat.StratD(period,symbol_index=symbol_index)\n",
    "#ust=strat.StratE(period,symbol_index=symbol_index)\n",
    "#ust=strat.StratF(period,symbol_index=symbol_index)\n",
    "#ust=strat.StratG(period,symbol_index=symbol_index)\n",
    "\n",
    "#ust=strat.StratIndex(period,symbol_index=symbol_index)\n",
    "#ust=strat.StratIndexB(period,symbol_index=symbol_index)\n",
    "\n",
    "#ust=strat.StratKamaStochMatrendBbands(period,symbol_index=symbol_index)\n",
    "#ust=strat.StratKamaStochMatrendMacdbbMacro(period,symbol_index=symbol_index)\n",
    "\n",
    "ust.run()"
   ]
  },
  {
   "cell_type": "code",
   "execution_count": 13,
   "id": "6d43afe6-2105-4c7b-80a5-d464b1f0322c",
   "metadata": {},
   "outputs": [
    {
     "name": "stderr",
     "output_type": "stream",
     "text": [
      "/home/maxime/.local/lib/python3.8/site-packages/vectorbtpro/portfolio/base.py:7085: UserWarning: Object has multiple columns. Aggregated some metrics using <function mean at 0x7f2ad02120d0>. Pass column to select a single column/group.\n",
      "  return getattr(returns_acc, \"stats\")(**kwargs)\n"
     ]
    },
    {
     "data": {
      "text/plain": [
       "Start                           2007-01-02 00:00:00+00:00\n",
       "End                             2022-08-31 00:00:00+00:00\n",
       "Period                                 4005 days 00:00:00\n",
       "Total Return [%]                               305.888611\n",
       "Benchmark Return [%]                           305.888611\n",
       "Annualized Return [%]                            6.242946\n",
       "Annualized Volatility [%]                       38.018131\n",
       "Max Drawdown [%]                                64.282001\n",
       "Max Drawdown Duration        1723 days 09:50:46.153846144\n",
       "Sharpe Ratio                                     0.432987\n",
       "Calmar Ratio                                     0.114876\n",
       "Omega Ratio                                      1.068551\n",
       "Sortino Ratio                                     0.63217\n",
       "Skew                                            -0.059265\n",
       "Kurtosis                                        14.688077\n",
       "Tail Ratio                                       1.028625\n",
       "Common Sense Ratio                                1.09357\n",
       "Value at Risk                                   -0.029439\n",
       "Alpha                                                 0.0\n",
       "Beta                                                  1.0\n",
       "Name: agg_stats, dtype: object"
      ]
     },
     "execution_count": 13,
     "metadata": {},
     "output_type": "execute_result"
    }
   ],
   "source": [
    "pf=vbt.Portfolio.from_signals(ust.data, ust.entries,ust.exits,\n",
    "                              short_entries=ust.entries_short,short_exits  =ust.exits_short,#,tsl_stop=0.14,\n",
    "                              freq=\"1d\")\n",
    "\n",
    "pf.returns_stats()\n",
    "#pf.returns_stats(column=pf.wrapper.columns[0])\n",
    "#pf.stats(column=pf.wrapper.columns[0])"
   ]
  },
  {
   "cell_type": "code",
   "execution_count": 14,
   "id": "cff3f19e-36a8-4365-87c1-f152d7b085e3",
   "metadata": {},
   "outputs": [
    {
     "name": "stderr",
     "output_type": "stream",
     "text": [
      "/home/maxime/.local/lib/python3.8/site-packages/vectorbtpro/portfolio/base.py:7085: UserWarning: Object has multiple columns. Aggregated some metrics using <function mean at 0x7f2ad02120d0>. Pass column to select a single column/group.\n",
      "  return getattr(returns_acc, \"stats\")(**kwargs)\n"
     ]
    },
    {
     "data": {
      "text/plain": [
       "Start                           2008-12-31 00:00:00+00:00\n",
       "End                             2022-08-31 00:00:00+00:00\n",
       "Period                                 3496 days 00:00:00\n",
       "Total Return [%]                               510.009139\n",
       "Benchmark Return [%]                           510.009139\n",
       "Annualized Return [%]                           10.719448\n",
       "Annualized Volatility [%]                       35.982166\n",
       "Max Drawdown [%]                                53.505461\n",
       "Max Drawdown Duration        1005 days 06:09:13.846153840\n",
       "Sharpe Ratio                                      0.59581\n",
       "Calmar Ratio                                     0.239323\n",
       "Omega Ratio                                      1.094411\n",
       "Sortino Ratio                                    0.872977\n",
       "Skew                                            -0.169862\n",
       "Kurtosis                                        15.393187\n",
       "Tail Ratio                                       1.047616\n",
       "Common Sense Ratio                               1.161187\n",
       "Value at Risk                                   -0.027867\n",
       "Alpha                                                 0.0\n",
       "Beta                                                  1.0\n",
       "Name: agg_stats, dtype: object"
      ]
     },
     "execution_count": 14,
     "metadata": {},
     "output_type": "execute_result"
    }
   ],
   "source": [
    "pf=vbt.Portfolio.from_signals(ust.close[509:], ust.entries[509:],ust.exits[509:],\n",
    "                              short_entries=ust.entries_short[509:],short_exits  =ust.exits_short[509:],\n",
    "                              freq=\"1d\")\n",
    "\n",
    "pf.returns_stats()"
   ]
  },
  {
   "cell_type": "code",
   "execution_count": 15,
   "id": "9439e6ba-2625-4bc4-bde7-c459ee9738e8",
   "metadata": {},
   "outputs": [
    {
     "data": {
      "application/vnd.jupyter.widget-view+json": {
       "model_id": "9fa43ce494de4e86807b85f6fabe7518",
       "version_major": 2,
       "version_minor": 0
      },
      "text/plain": [
       "FigureWidget({\n",
       "    'data': [{'legendgroup': '0',\n",
       "              'line': {'color': '#1f77b4'},\n",
       "              'mode': 'lines',\n",
       "              'name': 'Close',\n",
       "              'showlegend': True,\n",
       "              'type': 'scatter',\n",
       "              'uid': '1768ff57-3067-4227-942d-61385f5b0ad5',\n",
       "              'x': array([datetime.datetime(2008, 12, 31, 0, 0, tzinfo=datetime.timezone.utc),\n",
       "                          datetime.datetime(2009, 1, 2, 0, 0, tzinfo=datetime.timezone.utc),\n",
       "                          datetime.datetime(2009, 1, 5, 0, 0, tzinfo=datetime.timezone.utc), ...,\n",
       "                          datetime.datetime(2022, 8, 29, 0, 0, tzinfo=datetime.timezone.utc),\n",
       "                          datetime.datetime(2022, 8, 30, 0, 0, tzinfo=datetime.timezone.utc),\n",
       "                          datetime.datetime(2022, 8, 31, 0, 0, tzinfo=datetime.timezone.utc)],\n",
       "                         dtype=object),\n",
       "              'xaxis': 'x',\n",
       "              'y': array([  9.47702789,   9.9496994 ,  10.58780289, ..., 100.37999725,\n",
       "                          100.62000275,  97.88999939]),\n",
       "              'yaxis': 'y'},\n",
       "             {'customdata': array([['0', '2008-12-31 00:00:00+00:00', '2008-12-31 00:00:00+00:00',\n",
       "                                    '2008-12-31 00:00:00+00:00', 10.551831347163398, 9.477027893066406,\n",
       "                                    0.0, 'Market', 'None']], dtype=object),\n",
       "              'hovertemplate': ('<br>Order Id: %{customdata[0]}' ... 'br>Stop Type: %{customdata[8]}'),\n",
       "              'marker': {'color': '#37B13F',\n",
       "                         'line': {'color': 'rgb(38,123,44)', 'width': 1},\n",
       "                         'size': 8,\n",
       "                         'symbol': 'triangle-up'},\n",
       "              'mode': 'markers',\n",
       "              'name': 'Buy',\n",
       "              'type': 'scatter',\n",
       "              'uid': '354e2636-c32c-4e87-b480-9f1b169bb199',\n",
       "              'x': array([datetime.datetime(2008, 12, 31, 0, 0, tzinfo=datetime.timezone.utc)],\n",
       "                         dtype=object),\n",
       "              'xaxis': 'x',\n",
       "              'y': array([9.47702789]),\n",
       "              'yaxis': 'y'},\n",
       "             {'customdata': array([['0', '0', '2022-08-31 00:00:00+00:00', 932.9187641334984,\n",
       "                                    9.329187641334984]], dtype=object),\n",
       "              'hovertemplate': ('<br>Exit Trade Id: %{customdat' ... 'br>Return: %{customdata[4]:,%}'),\n",
       "              'marker': {'color': '#FFAA00',\n",
       "                         'line': {'color': 'rgb(178,118,0)', 'width': 1},\n",
       "                         'opacity': array([0.9]),\n",
       "                         'size': array([7]),\n",
       "                         'symbol': 'circle'},\n",
       "              'mode': 'markers',\n",
       "              'name': 'Open',\n",
       "              'type': 'scatter',\n",
       "              'uid': '7915915c-e196-4530-8417-4e89bccb7515',\n",
       "              'x': array([datetime.datetime(2022, 8, 31, 0, 0, tzinfo=datetime.timezone.utc)],\n",
       "                         dtype=object),\n",
       "              'xaxis': 'x2',\n",
       "              'y': array([9.32918764]),\n",
       "              'yaxis': 'y2'},\n",
       "             {'legendgroup': '1',\n",
       "              'line': {'color': '#7f7f7f'},\n",
       "              'mode': 'lines',\n",
       "              'name': 'Benchmark',\n",
       "              'showlegend': True,\n",
       "              'type': 'scatter',\n",
       "              'uid': '4adafc51-ba47-4397-8d2b-614ee636234c',\n",
       "              'x': array([datetime.datetime(2008, 12, 31, 0, 0, tzinfo=datetime.timezone.utc),\n",
       "                          datetime.datetime(2009, 1, 2, 0, 0, tzinfo=datetime.timezone.utc),\n",
       "                          datetime.datetime(2009, 1, 5, 0, 0, tzinfo=datetime.timezone.utc), ...,\n",
       "                          datetime.datetime(2022, 8, 29, 0, 0, tzinfo=datetime.timezone.utc),\n",
       "                          datetime.datetime(2022, 8, 30, 0, 0, tzinfo=datetime.timezone.utc),\n",
       "                          datetime.datetime(2022, 8, 31, 0, 0, tzinfo=datetime.timezone.utc)],\n",
       "                         dtype=object),\n",
       "              'xaxis': 'x3',\n",
       "              'y': array([ 1.        ,  1.0498755 ,  1.1172071 , ..., 10.59192802, 10.61725299,\n",
       "                          10.32918764]),\n",
       "              'yaxis': 'y3'},\n",
       "             {'hoverinfo': 'skip',\n",
       "              'line': {'color': 'rgba(0, 0, 0, 0)', 'width': 0},\n",
       "              'mode': 'lines',\n",
       "              'opacity': 0,\n",
       "              'showlegend': False,\n",
       "              'type': 'scatter',\n",
       "              'uid': '9ffd5002-9e79-4a93-ba7c-1efd2988d152',\n",
       "              'x': array([datetime.datetime(2008, 12, 31, 0, 0, tzinfo=datetime.timezone.utc),\n",
       "                          datetime.datetime(2009, 1, 2, 0, 0, tzinfo=datetime.timezone.utc),\n",
       "                          datetime.datetime(2009, 1, 5, 0, 0, tzinfo=datetime.timezone.utc), ...,\n",
       "                          datetime.datetime(2022, 8, 29, 0, 0, tzinfo=datetime.timezone.utc),\n",
       "                          datetime.datetime(2022, 8, 30, 0, 0, tzinfo=datetime.timezone.utc),\n",
       "                          datetime.datetime(2022, 8, 31, 0, 0, tzinfo=datetime.timezone.utc)],\n",
       "                         dtype=object),\n",
       "              'xaxis': 'x3',\n",
       "              'y': array([1, 1, 1, ..., 1, 1, 1]),\n",
       "              'yaxis': 'y3'},\n",
       "             {'connectgaps': False,\n",
       "              'fill': 'tonexty',\n",
       "              'fillcolor': 'rgba(0, 128, 0, 0.25)',\n",
       "              'hoverinfo': 'skip',\n",
       "              'line': {'color': 'rgba(0, 0, 0, 0)', 'width': 0},\n",
       "              'mode': 'lines',\n",
       "              'opacity': 0,\n",
       "              'showlegend': False,\n",
       "              'type': 'scatter',\n",
       "              'uid': '2aced6f3-3360-4a7e-bbfc-b594df6288af',\n",
       "              'x': array([datetime.datetime(2008, 12, 31, 0, 0, tzinfo=datetime.timezone.utc),\n",
       "                          datetime.datetime(2009, 1, 2, 0, 0, tzinfo=datetime.timezone.utc),\n",
       "                          datetime.datetime(2009, 1, 5, 0, 0, tzinfo=datetime.timezone.utc), ...,\n",
       "                          datetime.datetime(2022, 8, 29, 0, 0, tzinfo=datetime.timezone.utc),\n",
       "                          datetime.datetime(2022, 8, 30, 0, 0, tzinfo=datetime.timezone.utc),\n",
       "                          datetime.datetime(2022, 8, 31, 0, 0, tzinfo=datetime.timezone.utc)],\n",
       "                         dtype=object),\n",
       "              'xaxis': 'x3',\n",
       "              'y': array([ 1.        ,  1.0498755 ,  1.1172071 , ..., 10.59192802, 10.61725299,\n",
       "                          10.32918764]),\n",
       "              'yaxis': 'y3'},\n",
       "             {'hoverinfo': 'skip',\n",
       "              'line': {'color': 'rgba(0, 0, 0, 0)', 'width': 0},\n",
       "              'mode': 'lines',\n",
       "              'opacity': 0,\n",
       "              'showlegend': False,\n",
       "              'type': 'scatter',\n",
       "              'uid': 'b89675a4-74a8-4a8c-9beb-88cde37b8e3e',\n",
       "              'x': array([datetime.datetime(2008, 12, 31, 0, 0, tzinfo=datetime.timezone.utc),\n",
       "                          datetime.datetime(2009, 1, 2, 0, 0, tzinfo=datetime.timezone.utc),\n",
       "                          datetime.datetime(2009, 1, 5, 0, 0, tzinfo=datetime.timezone.utc), ...,\n",
       "                          datetime.datetime(2022, 8, 29, 0, 0, tzinfo=datetime.timezone.utc),\n",
       "                          datetime.datetime(2022, 8, 30, 0, 0, tzinfo=datetime.timezone.utc),\n",
       "                          datetime.datetime(2022, 8, 31, 0, 0, tzinfo=datetime.timezone.utc)],\n",
       "                         dtype=object),\n",
       "              'xaxis': 'x3',\n",
       "              'y': array([1, 1, 1, ..., 1, 1, 1]),\n",
       "              'yaxis': 'y3'},\n",
       "             {'connectgaps': False,\n",
       "              'fill': 'tonexty',\n",
       "              'fillcolor': 'rgba(255, 0, 0, 0.25)',\n",
       "              'hoverinfo': 'skip',\n",
       "              'line': {'color': 'rgba(0, 0, 0, 0)', 'width': 0},\n",
       "              'mode': 'lines',\n",
       "              'opacity': 0,\n",
       "              'showlegend': False,\n",
       "              'type': 'scatter',\n",
       "              'uid': '41b04e29-ed93-4ef3-9e94-e09189a4b9a2',\n",
       "              'x': array([datetime.datetime(2008, 12, 31, 0, 0, tzinfo=datetime.timezone.utc),\n",
       "                          datetime.datetime(2009, 1, 2, 0, 0, tzinfo=datetime.timezone.utc),\n",
       "                          datetime.datetime(2009, 1, 5, 0, 0, tzinfo=datetime.timezone.utc), ...,\n",
       "                          datetime.datetime(2022, 8, 29, 0, 0, tzinfo=datetime.timezone.utc),\n",
       "                          datetime.datetime(2022, 8, 30, 0, 0, tzinfo=datetime.timezone.utc),\n",
       "                          datetime.datetime(2022, 8, 31, 0, 0, tzinfo=datetime.timezone.utc)],\n",
       "                         dtype=object),\n",
       "              'xaxis': 'x3',\n",
       "              'y': array([1., 1., 1., ..., 1., 1., 1.]),\n",
       "              'yaxis': 'y3'},\n",
       "             {'legendgroup': '2',\n",
       "              'line': {'color': '#9467bd'},\n",
       "              'mode': 'lines',\n",
       "              'name': 'Value',\n",
       "              'showlegend': True,\n",
       "              'type': 'scatter',\n",
       "              'uid': '60c46c2b-ec91-4f98-863c-b52238d1e95b',\n",
       "              'x': array([datetime.datetime(2008, 12, 31, 0, 0, tzinfo=datetime.timezone.utc),\n",
       "                          datetime.datetime(2009, 1, 2, 0, 0, tzinfo=datetime.timezone.utc),\n",
       "                          datetime.datetime(2009, 1, 5, 0, 0, tzinfo=datetime.timezone.utc), ...,\n",
       "                          datetime.datetime(2022, 8, 29, 0, 0, tzinfo=datetime.timezone.utc),\n",
       "                          datetime.datetime(2022, 8, 30, 0, 0, tzinfo=datetime.timezone.utc),\n",
       "                          datetime.datetime(2022, 8, 31, 0, 0, tzinfo=datetime.timezone.utc)],\n",
       "                         dtype=object),\n",
       "              'xaxis': 'x3',\n",
       "              'y': array([ 1.        ,  1.0498755 ,  1.1172071 , ..., 10.59192802, 10.61725299,\n",
       "                          10.32918764]),\n",
       "              'yaxis': 'y3'},\n",
       "             {'hoverinfo': 'skip',\n",
       "              'line': {'color': 'rgba(0, 0, 0, 0)', 'width': 0},\n",
       "              'mode': 'lines',\n",
       "              'opacity': 0.0,\n",
       "              'showlegend': False,\n",
       "              'type': 'scatter',\n",
       "              'uid': 'd1bf1d59-e3eb-4fbd-aa1e-cac558439c32',\n",
       "              'x': array([datetime.datetime(2008, 12, 31, 0, 0, tzinfo=datetime.timezone.utc),\n",
       "                          datetime.datetime(2009, 1, 2, 0, 0, tzinfo=datetime.timezone.utc),\n",
       "                          datetime.datetime(2009, 1, 5, 0, 0, tzinfo=datetime.timezone.utc), ...,\n",
       "                          datetime.datetime(2022, 8, 29, 0, 0, tzinfo=datetime.timezone.utc),\n",
       "                          datetime.datetime(2022, 8, 30, 0, 0, tzinfo=datetime.timezone.utc),\n",
       "                          datetime.datetime(2022, 8, 31, 0, 0, tzinfo=datetime.timezone.utc)],\n",
       "                         dtype=object),\n",
       "              'xaxis': 'x3',\n",
       "              'y': array([1, 1, 1, ..., 1, 1, 1]),\n",
       "              'yaxis': 'y3'}],\n",
       "    'layout': {'annotations': [{'font': {'size': 16},\n",
       "                                'showarrow': False,\n",
       "                                'text': 'Orders',\n",
       "                                'x': 0.5,\n",
       "                                'xanchor': 'center',\n",
       "                                'xref': 'paper',\n",
       "                                'y': 1.0,\n",
       "                                'yanchor': 'bottom',\n",
       "                                'yref': 'paper'},\n",
       "                               {'font': {'size': 16},\n",
       "                                'showarrow': False,\n",
       "                                'text': 'Trade PnL',\n",
       "                                'x': 0.5,\n",
       "                                'xanchor': 'center',\n",
       "                                'xref': 'paper',\n",
       "                                'y': 0.6527777777777777,\n",
       "                                'yanchor': 'bottom',\n",
       "                                'yref': 'paper'},\n",
       "                               {'font': {'size': 16},\n",
       "                                'showarrow': False,\n",
       "                                'text': 'Cumulative Returns',\n",
       "                                'x': 0.5,\n",
       "                                'xanchor': 'center',\n",
       "                                'xref': 'paper',\n",
       "                                'y': 0.3055555555555555,\n",
       "                                'yanchor': 'bottom',\n",
       "                                'yref': 'paper'}],\n",
       "               'height': 960,\n",
       "               'legend': {'orientation': 'h',\n",
       "                          'traceorder': 'normal',\n",
       "                          'x': 1,\n",
       "                          'xanchor': 'right',\n",
       "                          'y': 1.0416666666666667,\n",
       "                          'yanchor': 'bottom'},\n",
       "               'margin': {'b': 30, 'l': 30, 'r': 30, 't': 30},\n",
       "               'shapes': [{'line': {'color': 'gray', 'dash': 'dash'},\n",
       "                           'type': 'line',\n",
       "                           'x0': 0.0,\n",
       "                           'x1': 1.0,\n",
       "                           'xref': 'paper',\n",
       "                           'y0': 0,\n",
       "                           'y1': 0,\n",
       "                           'yref': 'y2'},\n",
       "                          {'line': {'color': 'gray', 'dash': 'dash'},\n",
       "                           'type': 'line',\n",
       "                           'x0': 0.0,\n",
       "                           'x1': 1.0,\n",
       "                           'xref': 'paper',\n",
       "                           'y0': 1,\n",
       "                           'y1': 1,\n",
       "                           'yref': 'y3'}],\n",
       "               'showlegend': True,\n",
       "               'template': '...',\n",
       "               'width': 750,\n",
       "               'xaxis': {'anchor': 'y', 'domain': [0.0, 1.0], 'matches': 'x3', 'showticklabels': False},\n",
       "               'xaxis2': {'anchor': 'y2', 'domain': [0.0, 1.0], 'matches': 'x3', 'showticklabels': False},\n",
       "               'xaxis3': {'anchor': 'y3', 'domain': [0.0, 1.0], 'title': {'text': 'Index'}},\n",
       "               'yaxis': {'anchor': 'x', 'domain': [0.6944444444444444, 1.0], 'title': {'text': 'Price'}},\n",
       "               'yaxis2': {'anchor': 'x2',\n",
       "                          'domain': [0.3472222222222222, 0.6527777777777777],\n",
       "                          'tickformat': '.2%',\n",
       "                          'title': {'text': 'Trade PnL'}},\n",
       "               'yaxis3': {'anchor': 'x3', 'domain': [0.0, 0.3055555555555555], 'title': {'text': 'Cumulative returns'}}}\n",
       "})"
      ]
     },
     "execution_count": 15,
     "metadata": {},
     "output_type": "execute_result"
    }
   ],
   "source": [
    "pf.plot(column=pf.wrapper.columns[2])"
   ]
  },
  {
   "cell_type": "code",
   "execution_count": 19,
   "id": "00cd4522-8b2d-40ad-90d3-284ee1362452",
   "metadata": {},
   "outputs": [
    {
     "data": {
      "text/plain": [
       "'GLE'"
      ]
     },
     "execution_count": 19,
     "metadata": {},
     "output_type": "execute_result"
    }
   ],
   "source": [
    "pf.wrapper.columns[16]"
   ]
  },
  {
   "cell_type": "code",
   "execution_count": 16,
   "id": "fc21e877-ecd1-4234-bcce-36d79815307a",
   "metadata": {},
   "outputs": [
    {
     "data": {
      "application/vnd.jupyter.widget-view+json": {
       "model_id": "0c0655f29dab47d59e1f6e677e1d3f8b",
       "version_major": 2,
       "version_minor": 0
      },
      "text/plain": [
       "FigureWidget({\n",
       "    'data': [{'name': 'AC',\n",
       "              'showlegend': True,\n",
       "              'type': 'scatter',\n",
       "              'uid': 'df236216-eabb-4525-986d-2d2f10927953',\n",
       "              'x': array([datetime.datetime(2007, 1, 2, 0, 0, tzinfo=datetime.timezone.utc),\n",
       "                          datetime.datetime(2007, 1, 3, 0, 0, tzinfo=datetime.timezone.utc),\n",
       "                          datetime.datetime(2007, 1, 4, 0, 0, tzinfo=datetime.timezone.utc), ...,\n",
       "                          datetime.datetime(2022, 8, 29, 0, 0, tzinfo=datetime.timezone.utc),\n",
       "                          datetime.datetime(2022, 8, 30, 0, 0, tzinfo=datetime.timezone.utc),\n",
       "                          datetime.datetime(2022, 8, 31, 0, 0, tzinfo=datetime.timezone.utc)],\n",
       "                         dtype=object),\n",
       "              'y': array([False, False, False, ..., False, False, False], dtype=object)}],\n",
       "    'layout': {'height': 350,\n",
       "               'legend': {'orientation': 'h',\n",
       "                          'traceorder': 'normal',\n",
       "                          'x': 1,\n",
       "                          'xanchor': 'right',\n",
       "                          'y': 1.02,\n",
       "                          'yanchor': 'bottom'},\n",
       "               'margin': {'b': 30, 'l': 30, 'r': 30, 't': 30},\n",
       "               'template': '...',\n",
       "               'width': 700}\n",
       "})"
      ]
     },
     "execution_count": 16,
     "metadata": {},
     "output_type": "execute_result"
    }
   ],
   "source": [
    "st.exits[st.exits.columns[0]].vbt.plot()"
   ]
  },
  {
   "cell_type": "code",
   "execution_count": 17,
   "id": "129f0966-38d3-4373-9ec7-9edb995b880a",
   "metadata": {},
   "outputs": [
    {
     "data": {
      "text/plain": [
       "Start                        2008-12-31 00:00:00+00:00\n",
       "End                          2022-08-31 00:00:00+00:00\n",
       "Period                              3496 days 00:00:00\n",
       "Total Return [%]                           1689.695129\n",
       "Benchmark Return [%]                       1689.695129\n",
       "Annualized Return [%]                        23.480799\n",
       "Annualized Volatility [%]                    34.074191\n",
       "Max Drawdown [%]                             53.384997\n",
       "Max Drawdown Duration                470 days 00:00:00\n",
       "Sharpe Ratio                                  1.054465\n",
       "Calmar Ratio                                  0.439839\n",
       "Omega Ratio                                   1.174819\n",
       "Sortino Ratio                                  1.57979\n",
       "Skew                                          0.091894\n",
       "Kurtosis                                      7.212954\n",
       "Tail Ratio                                    1.078008\n",
       "Common Sense Ratio                            1.331133\n",
       "Value at Risk                                -0.025768\n",
       "Alpha                                              0.0\n",
       "Beta                                               1.0\n",
       "Name: TEP, dtype: object"
      ]
     },
     "execution_count": 17,
     "metadata": {},
     "output_type": "execute_result"
    }
   ],
   "source": [
    "pf.returns_stats(column=pf.wrapper.columns[35])"
   ]
  },
  {
   "cell_type": "code",
   "execution_count": 18,
   "id": "6faf34a0-12dc-4993-b411-d791fa3475d0",
   "metadata": {},
   "outputs": [
    {
     "name": "stderr",
     "output_type": "stream",
     "text": [
      "/home/maxime/.local/lib/python3.8/site-packages/vectorbtpro/portfolio/base.py:7085: UserWarning:\n",
      "\n",
      "Object has multiple columns. Aggregated some metrics using <function mean at 0x7f2ad02120d0>. Pass column to select a single column/group.\n",
      "\n"
     ]
    },
    {
     "data": {
      "text/plain": [
       "Start                          2018-10-01 00:00:00+00:00\n",
       "End                            2022-08-24 00:00:00+00:00\n",
       "Period                                1000 days 00:00:00\n",
       "Total Return [%]                               27.361309\n",
       "Benchmark Return [%]                           27.361309\n",
       "Annualized Return [%]                           4.352968\n",
       "Annualized Volatility [%]                      40.298148\n",
       "Max Drawdown [%]                               48.772762\n",
       "Max Drawdown Duration        461 days 17:50:46.153846152\n",
       "Sharpe Ratio                                    0.381285\n",
       "Calmar Ratio                                    0.144171\n",
       "Omega Ratio                                     1.060518\n",
       "Sortino Ratio                                   0.555743\n",
       "Skew                                           -0.371382\n",
       "Kurtosis                                       17.427219\n",
       "Tail Ratio                                      0.993613\n",
       "Common Sense Ratio                              1.037633\n",
       "Value at Risk                                  -0.030294\n",
       "Alpha                                                0.0\n",
       "Beta                                                 1.0\n",
       "Name: agg_stats, dtype: object"
      ]
     },
     "execution_count": 18,
     "metadata": {},
     "output_type": "execute_result"
    }
   ],
   "source": [
    "start_ind=3000\n",
    "end_ind=4000\n",
    "pf=vbt.Portfolio.from_signals(ust.close[start_ind:end_ind], ust.entries[start_ind:end_ind],ust.exits[start_ind:end_ind],\n",
    "                              short_entries=ust.entries_short[start_ind:end_ind],short_exits  =ust.exits_short[start_ind:end_ind],\n",
    "                              freq=\"1d\")\n",
    "\n",
    "pf.returns_stats()"
   ]
  },
  {
   "cell_type": "code",
   "execution_count": 20,
   "id": "27196453-4569-49b4-a162-b6c2775b5f1f",
   "metadata": {},
   "outputs": [],
   "source": [
    "from core.strat import UnderlyingStrat\n",
    "import numbers\n",
    "\n",
    "class StratT(UnderlyingStrat):    \n",
    "    def __init__(self,\n",
    "                 period: numbers.Number,\n",
    "                 **kwargs):\n",
    "        a_bull=[1., 0., 0., 1., 0., 0., 1., 0., 0., 0., 0., 0., 1., 1., 0., 0., 1.,\n",
    "       0., 0., 0., 0., 0., 1., 0., 0., 0., 0., 0., 0., 0., 0., 0., 0., 0.,\n",
    "       0., 1., 0., 0., 0., 0., 0., 1., 0., 0.]\n",
    "        a_bear=[1, 0, 0, 1, 0, 1, 1, 0, 0, 0, 0, 0, 1, 1, 0, 0, 1, 0, 0, 0, 0, 0, 1,\n",
    "       0, 0, 0, 0, 0, 0, 0, 0, 0, 0, 1, 0, 1, 0, 0, 1, 0, 0, 1, 1, 0]\n",
    "        a_uncertain=[1., 1., 0., 0., 0., 0., 0., 0., 0., 0., 0., 0., 1., 0., 1., 0., 0.,\n",
    "       0., 1., 0., 0., 0., 0., 0., 0., 1., 0., 0., 0., 0., 0., 0., 0., 1.,\n",
    "       0., 0., 1., 0., 0., 0., 1., 0., 0., 0.]\n",
    "        \n",
    "        super().__init__(\n",
    "            period,\n",
    "            strat_arr_bull=a_bull,\n",
    "            strat_arr_bear=a_bear,\n",
    "            strat_arr_uncertain=a_uncertain,\n",
    "            **kwargs ) \n"
   ]
  },
  {
   "cell_type": "code",
   "execution_count": 22,
   "id": "5a35f9ee-9c27-4527-a5d8-57e1e643b15a",
   "metadata": {},
   "outputs": [
    {
     "data": {
      "application/json": {
       "ascii": false,
       "bar_format": null,
       "colour": null,
       "elapsed": 0.005458831787109375,
       "initial": 0,
       "n": 0,
       "ncols": null,
       "nrows": 53,
       "postfix": null,
       "prefix": "",
       "rate": null,
       "total": 39,
       "unit": "it",
       "unit_divisor": 1000,
       "unit_scale": false
      },
      "application/vnd.jupyter.widget-view+json": {
       "model_id": "585a5f7cc3584caf9085f8e434c21e8e",
       "version_major": 2,
       "version_minor": 0
      },
      "text/plain": [
       "  0%|          | 0/39 [00:00<?, ?it/s]"
      ]
     },
     "metadata": {},
     "output_type": "display_data"
    }
   ],
   "source": [
    "ust=StratT(period,symbol_index=symbol_index)\n",
    "ust.run()"
   ]
  },
  {
   "cell_type": "code",
   "execution_count": 23,
   "id": "e42a2524-6bdd-47fc-b885-455d3b952aae",
   "metadata": {},
   "outputs": [
    {
     "name": "stderr",
     "output_type": "stream",
     "text": [
      "/home/maxime/.local/lib/python3.8/site-packages/vectorbtpro/portfolio/base.py:7085: UserWarning:\n",
      "\n",
      "Object has multiple columns. Aggregated some metrics using <function mean at 0x7f2ad02120d0>. Pass column to select a single column/group.\n",
      "\n"
     ]
    },
    {
     "data": {
      "text/plain": [
       "Start                           2007-01-02 00:00:00+00:00\n",
       "End                             2022-08-31 00:00:00+00:00\n",
       "Period                                 4005 days 00:00:00\n",
       "Total Return [%]                               139.465896\n",
       "Benchmark Return [%]                           305.888611\n",
       "Annualized Return [%]                            2.495559\n",
       "Annualized Volatility [%]                       36.538216\n",
       "Max Drawdown [%]                                68.420857\n",
       "Max Drawdown Duration        2140 days 16:36:55.384615392\n",
       "Sharpe Ratio                                     0.278341\n",
       "Calmar Ratio                                     0.051167\n",
       "Omega Ratio                                      1.046346\n",
       "Sortino Ratio                                    0.404604\n",
       "Skew                                            -0.203386\n",
       "Kurtosis                                        16.671321\n",
       "Tail Ratio                                       1.016959\n",
       "Common Sense Ratio                               1.043376\n",
       "Value at Risk                                   -0.028579\n",
       "Alpha                                            -0.01205\n",
       "Beta                                             0.718408\n",
       "Name: agg_stats, dtype: object"
      ]
     },
     "execution_count": 23,
     "metadata": {},
     "output_type": "execute_result"
    }
   ],
   "source": [
    "pf=vbt.Portfolio.from_signals(ust.data, ust.entries,ust.exits,\n",
    "                              short_entries=ust.entries_short,short_exits  =ust.exits_short,#,tsl_stop=0.14,\n",
    "                              freq=\"1d\")\n",
    "\n",
    "pf.returns_stats()"
   ]
  },
  {
   "cell_type": "code",
   "execution_count": 37,
   "id": "697fbf29-916b-429c-8d91-df43de320c98",
   "metadata": {},
   "outputs": [],
   "source": [
    "\n"
   ]
  },
  {
   "cell_type": "code",
   "execution_count": null,
   "id": "6b5e040e-95c5-4a6c-a8ea-79b7ed7043ac",
   "metadata": {},
   "outputs": [],
   "source": []
  },
  {
   "cell_type": "code",
   "execution_count": null,
   "id": "f941a280-fb43-40e9-92df-32ff462c24f0",
   "metadata": {},
   "outputs": [],
   "source": []
  },
  {
   "cell_type": "code",
   "execution_count": null,
   "id": "f35062de-2bd4-4176-ba64-f66682df9b12",
   "metadata": {},
   "outputs": [],
   "source": []
  },
  {
   "cell_type": "code",
   "execution_count": null,
   "id": "260ab8c7-8c95-4ae8-8738-3c86fd7ba392",
   "metadata": {},
   "outputs": [],
   "source": []
  },
  {
   "cell_type": "code",
   "execution_count": null,
   "id": "796df45d-1a2d-47ec-ac28-a975361be20d",
   "metadata": {},
   "outputs": [],
   "source": []
  },
  {
   "cell_type": "code",
   "execution_count": null,
   "id": "9718be22-1535-4245-b04e-cd379bd65119",
   "metadata": {},
   "outputs": [],
   "source": []
  },
  {
   "cell_type": "code",
   "execution_count": null,
   "id": "283ad825-46ee-4746-8f38-1da191f49137",
   "metadata": {},
   "outputs": [],
   "source": []
  },
  {
   "cell_type": "code",
   "execution_count": null,
   "id": "79dd3749-1ca9-4ecd-990a-04446bddbf77",
   "metadata": {},
   "outputs": [],
   "source": []
  },
  {
   "cell_type": "code",
   "execution_count": null,
   "id": "2c4e8df0-518c-4cac-bf17-1237367e48d1",
   "metadata": {},
   "outputs": [],
   "source": []
  }
 ],
 "metadata": {
  "kernelspec": {
   "display_name": "Python 3 (ipykernel)",
   "language": "python",
   "name": "python3"
  },
  "language_info": {
   "codemirror_mode": {
    "name": "ipython",
    "version": 3
   },
   "file_extension": ".py",
   "mimetype": "text/x-python",
   "name": "python",
   "nbconvert_exporter": "python",
   "pygments_lexer": "ipython3",
   "version": "3.8.10"
  }
 },
 "nbformat": 4,
 "nbformat_minor": 5
}
